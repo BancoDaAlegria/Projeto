{
 "cells": [
  {
   "cell_type": "code",
   "execution_count": 1,
   "metadata": {},
   "outputs": [],
   "source": [
    "import pandas as pd"
   ]
  },
  {
   "cell_type": "code",
   "execution_count": 4,
   "metadata": {},
   "outputs": [],
   "source": [
    "teste = pd.read_csv(\"testando.csv\")"
   ]
  },
  {
   "cell_type": "code",
   "execution_count": 12,
   "metadata": {},
   "outputs": [
    {
     "name": "stdout",
     "output_type": "stream",
     "text": [
      "Index(['idade;sexo'], dtype='object')\n",
      "A coluna 'idade' não está presente no DataFrame.\n"
     ]
    }
   ],
   "source": [
    "# Verificar as colunas do DataFrame\n",
    "print(teste.columns)\n",
    "\n",
    "# Verificar a presença da coluna 'idade'\n",
    "if 'idade' in teste.columns:\n",
    "    idades = teste['idade']\n",
    "    print(idades)\n",
    "else:\n",
    "    print(\"A coluna 'idade' não está presente no DataFrame.\")\n"
   ]
  }
 ],
 "metadata": {
  "kernelspec": {
   "display_name": "Python 3",
   "language": "python",
   "name": "python3"
  },
  "language_info": {
   "codemirror_mode": {
    "name": "ipython",
    "version": 3
   },
   "file_extension": ".py",
   "mimetype": "text/x-python",
   "name": "python",
   "nbconvert_exporter": "python",
   "pygments_lexer": "ipython3",
   "version": "3.11.7"
  }
 },
 "nbformat": 4,
 "nbformat_minor": 2
}
